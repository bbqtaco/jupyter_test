{
  "nbformat": 4,
  "nbformat_minor": 0,
  "metadata": {
    "colab": {
      "name": "Copy of Untitled3.ipynb",
      "version": "0.3.2",
      "provenance": [],
      "include_colab_link": true
    },
    "kernelspec": {
      "name": "python3",
      "display_name": "Python 3"
    }
  },
  "cells": [
    {
      "cell_type": "markdown",
      "metadata": {
        "id": "view-in-github",
        "colab_type": "text"
      },
      "source": [
        "<a href=\"https://colab.research.google.com/github/bbqtaco/jupyter_test/blob/master/Copy_of_Untitled3.ipynb\" target=\"_parent\"><img src=\"https://colab.research.google.com/assets/colab-badge.svg\" alt=\"Open In Colab\"/></a>"
      ]
    },
    {
      "metadata": {
        "id": "zV5Kh8fRoFhz",
        "colab_type": "text"
      },
      "cell_type": "markdown",
      "source": [
        "## Introduction"
      ]
    },
    {
      "metadata": {
        "id": "bQKLIoaDnlaw",
        "colab_type": "code",
        "outputId": "f9d408cc-4758-4a56-c614-56a3e3bdc9ff",
        "colab": {
          "base_uri": "https://localhost:8080/",
          "height": 36
        }
      },
      "cell_type": "code",
      "source": [
        "4+4"
      ],
      "execution_count": 0,
      "outputs": [
        {
          "output_type": "execute_result",
          "data": {
            "text/plain": [
              "8"
            ]
          },
          "metadata": {
            "tags": []
          },
          "execution_count": 2
        }
      ]
    },
    {
      "metadata": {
        "id": "zRhHv0CdoNq8",
        "colab_type": "code",
        "colab": {
          "base_uri": "https://localhost:8080/",
          "height": 71
        },
        "outputId": "1c591c4f-fc0b-457f-9806-5ca4531e1bca"
      },
      "cell_type": "code",
      "source": [
        "!pip install psi4\n"
      ],
      "execution_count": 3,
      "outputs": [
        {
          "output_type": "stream",
          "text": [
            "Collecting psi4\n",
            "\u001b[31m  Could not find a version that satisfies the requirement psi4 (from versions: )\u001b[0m\n",
            "\u001b[31mNo matching distribution found for psi4\u001b[0m\n"
          ],
          "name": "stdout"
        }
      ]
    },
    {
      "metadata": {
        "id": "raKupySI8UkP",
        "colab_type": "code",
        "colab": {
          "base_uri": "https://localhost:8080/",
          "height": 71
        },
        "outputId": "392e9c45-f915-45cc-9d8c-8559fecd9a91"
      },
      "cell_type": "code",
      "source": [
        "! curl -O \"http://vergil.chemistry.gatech.edu/download/Psi4conda-latest-py35-Linux-x86_64.sh\" --keepalive-time 2\n"
      ],
      "execution_count": 4,
      "outputs": [
        {
          "output_type": "stream",
          "text": [
            "  % Total    % Received % Xferd  Average Speed   Time    Time     Time  Current\n",
            "                                 Dload  Upload   Total   Spent    Left  Speed\n",
            "100  345M  100  345M    0     0  36.8M      0  0:00:09  0:00:09 --:--:-- 46.9M\n"
          ],
          "name": "stdout"
        }
      ]
    },
    {
      "metadata": {
        "id": "8fkCZ2p48yUr",
        "colab_type": "code",
        "colab": {
          "base_uri": "https://localhost:8080/",
          "height": 35
        },
        "outputId": "61a6d374-af7b-456a-aa39-aae24f20635c"
      },
      "cell_type": "code",
      "source": [
        "!conda"
      ],
      "execution_count": 5,
      "outputs": [
        {
          "output_type": "stream",
          "text": [
            "/bin/bash: conda: command not found\n"
          ],
          "name": "stdout"
        }
      ]
    },
    {
      "metadata": {
        "id": "miT4owv681_Z",
        "colab_type": "code",
        "colab": {
          "base_uri": "https://localhost:8080/",
          "height": 2608
        },
        "outputId": "0d01b4c2-4e20-4c2a-8732-1346a0c080b0"
      },
      "cell_type": "code",
      "source": [
        "!bash Psi4conda-latest-py35-Linux-x86_64.sh -b -p $HOME/psi4conda  # agrees to license terms\n"
      ],
      "execution_count": 6,
      "outputs": [
        {
          "output_type": "stream",
          "text": [
            "PREFIX=/root/psi4conda\n",
            "installing: python-3.5.3-1 ...\n",
            "Python 3.5.3 :: Continuum Analytics, Inc.\n",
            "installing: bzip2-1.0.6-3 ...\n",
            "installing: conda-env-2.6.0-0 ...\n",
            "installing: dftd3-3.2.0-7 ...\n",
            "installing: erd-3.0.6-0 ...\n",
            "installing: expat-2.1.0-0 ...\n",
            "installing: gcp-2.0.1-0 ...\n",
            "installing: gdma-2.2.6-2 ...\n",
            "installing: gmp-6.1.0-0 ...\n",
            "installing: libffi-3.2.1-1 ...\n",
            "installing: libint-1.1.6-0 ...\n",
            "installing: mkl-2017.0.1-0 ...\n",
            "installing: ncurses-5.9-10 ...\n",
            "installing: openssl-1.0.2k-1 ...\n",
            "installing: readline-6.2-2 ...\n",
            "installing: simint-0.7-0 ...\n",
            "installing: sqlite-3.13.0-0 ...\n",
            "installing: tk-8.5.18-0 ...\n",
            "installing: xz-5.2.2-1 ...\n",
            "installing: yaml-0.1.6-0 ...\n",
            "installing: zlib-1.2.8-3 ...\n",
            "installing: curl-7.52.1-0 ...\n",
            "installing: hdf5-1.8.17-1 ...\n",
            "installing: isl-0.12.2-0 ...\n",
            "installing: libefp-1.4.1-3 ...\n",
            "installing: mpfr-3.1.2-0 ...\n",
            "installing: alabaster-0.7.10-py35_0 ...\n",
            "installing: chemps2-1.8.3-5 ...\n",
            "installing: cloog-0.18.0-0 ...\n",
            "installing: cmake-3.6.3-0 ...\n",
            "installing: idna-2.2-py35_0 ...\n",
            "installing: imagesize-0.7.1-py35_0 ...\n",
            "installing: markupsafe-0.23-py35_2 ...\n",
            "installing: mpc-1.0.1-0 ...\n",
            "installing: numpy-1.12.1-py35_0 ...\n",
            "installing: pcmsolver-1.1.10-py35_0 ...\n",
            "installing: py-1.4.33-py35_0 ...\n",
            "installing: pyasn1-0.2.3-py35_0 ...\n",
            "installing: pycosat-0.6.2-py35_0 ...\n",
            "installing: pycparser-2.17-py35_0 ...\n",
            "installing: pygments-2.2.0-py35_0 ...\n",
            "installing: pytz-2017.2-py35_0 ...\n",
            "installing: requests-2.13.0-py35_0 ...\n",
            "installing: ruamel_yaml-0.11.14-py35_1 ...\n",
            "installing: setuptools-27.2.0-py35_0 ...\n",
            "installing: six-1.10.0-py35_0 ...\n",
            "installing: snowballstemmer-1.2.1-py35_0 ...\n",
            "installing: v2rdm_casscf-0.2.1-py35_0 ...\n",
            "installing: babel-2.4.0-py35_0 ...\n",
            "installing: cffi-1.9.1-py35_0 ...\n",
            "installing: gcc-5-5.2.0-1 ...\n",
            "installing: jinja2-2.9.5-py35_0 ...\n",
            "installing: pytest-3.0.7-py35_0 ...\n",
            "installing: cryptography-1.7.1-py35_0 ...\n",
            "installing: gcc-5-mp-5.2.0-0 ...\n",
            "installing: psi4-deps-1.0-py35_1 ...\n",
            "installing: pyopenssl-16.2.0-py35_0 ...\n",
            "installing: conda-4.3.16-py35_0 ...\n",
            "installing: psi4-1.1rc1+6db9b1f-py35_0 ...\n",
            "\n",
            "  Thank you for installing ERD.\n",
            "    GitHub:  github.com/psi4/erd\n",
            "    Binary:  anaconda.org/psi4/erd\n",
            "    Inputs:  /root/psi4conda/share/psi4/samples/erd\n",
            "    Test (after first activating conda installation or environment):\n",
            "      psi4 \"$(dirname $(which psi4))\"/../share/psi4/samples/erd/scf5/test.in\n",
            "\n",
            "\n",
            "  Thank you for installing GDMA.\n",
            "    Manual:  http://www-stone.ch.cam.ac.uk/documentation/gdma/manual.pdf\n",
            "    GitHub:  github.com/psi4/gdma\n",
            "    Binary:  anaconda.org/psi4/gdma\n",
            "    Inputs:  /root/psi4conda/share/psi4/samples/gdma\n",
            "    Test (after first activating conda installation or environment):\n",
            "      psi4 \"$(dirname $(which psi4))\"/../share/psi4/samples/gdma/gdma1/test.in\n",
            "\n",
            "\n",
            "  Thank you for installing SIMINT.\n",
            "    Manual:  http://www.bennyp.org/research/simint/\n",
            "    GitHub:  github.com/simint-chem/simint-generator\n",
            "    Binary:  anaconda.org/psi4/simint\n",
            "    Inputs:  /root/psi4conda/share/psi4/samples/simint\n",
            "    Test (after first activating conda installation or environment):\n",
            "      psi4 \"$(dirname $(which psi4))\"/../share/psi4/samples/simint/scf5/test.in\n",
            "\n",
            "\n",
            "  Thank you for installing LIBEFP.\n",
            "    Manual:  http://www.libefp.org/\n",
            "    GitHub:  github.com/ilyak/libefp\n",
            "    Binary:  anaconda.org/psi4/libefp\n",
            "    Inputs:  /root/psi4conda/share/psi4/samples/libefp\n",
            "    Test (after first activating conda installation or environment):\n",
            "      psi4 \"$(dirname $(which psi4))\"/../share/psi4/samples/libefp/qchem-qmefp-sp/test.in\n",
            "\n",
            "\n",
            "  Thank you for installing CheMPS2.\n",
            "    Manual:  sebwouters.github.io/CheMPS2\n",
            "    GitHub:  github.com/SebWouters/CheMPS2\n",
            "    Binary:  anaconda.org/psi4/chemps2\n",
            "    Inputs:  /root/psi4conda/share/psi4/samples/chemps2\n",
            "    Test (after first activating conda installation or environment):\n",
            "      psi4 \"$(dirname $(which psi4))\"/../share/psi4/samples/chemps2/ci-h2o/test.in\n",
            "\n",
            "\n",
            "  Thank you for installing PCMSolver.\n",
            "    Manual:  pcmsolver.readthedocs.io/en/latest/\n",
            "    GitHub:  github.com/PCMSolver/pcmsolver\n",
            "    Binary:  anaconda.org/psi4/pcmsolver\n",
            "    Inputs:  /root/psi4conda/share/psi4/samples/pcmsolver\n",
            "    Test (after first activating conda installation or environment):\n",
            "      psi4 \"$(dirname $(which psi4))\"/../share/psi4/samples/pcmsolver/dft/test.in\n",
            "\n",
            "\n",
            "  Thank you for installing the v2rdm_casscf plugin to Psi4.\n",
            "    GitHub:  github.com/edeprince3/v2rdm_casscf\n",
            "    Binary:  anaconda.org/psi4/v2rdm_casscf\n",
            "    Inputs:  /root/psi4conda/lib/python*/site-packages/v2rdm_casscf/tests\n",
            "    Test (after first activating conda installation or environment):\n",
            "      psi4 \"$(dirname $(which psi4))\"/../lib/python*/site-packages/v2rdm_casscf/tests/v2rdm1/input.dat -o output.dat\n",
            "\n",
            "\n",
            "  Thank you for installing Psi4.\n",
            "    Website: psicode.org\n",
            "    Forum:   forum.psicode.org\n",
            "    Manual:  psicode.org/psi4manual/master/index.html\n",
            "    GitHub:  github.com/psi4/psi4\n",
            "    Binary:  anaconda.org/psi4/psi4\n",
            "    Inputs:  /root/psi4conda/share/psi4/samples\n",
            "    Youtube: youtube.com/user/psitutorials\n",
            "    Test (after first activating conda installation or environment):\n",
            "      psi4 \"$(dirname $(which psi4))\"/../share/psi4/samples/sapt1/test.in\n",
            "\n",
            "  For csh/tcsh command-line use, add to shell or ~/.tcshrc file:\n",
            "    unsetenv PSIDATADIR\n",
            "    setenv PATH /root/psi4conda/bin:$PATH\n",
            "    setenv PSI_SCRATCH /path/to/existing/writable/local-not-network/disk/for/scratch/files\n",
            "\n",
            "  For sh/bash command-line use, add to shell or ~/.bashrc file:\n",
            "    unset PSIDATADIR\n",
            "    export PATH=/root/psi4conda/bin:$PATH\n",
            "    export PSI_SCRATCH=/path/to/existing/writable/local-not-network/disk/for/scratch/files\n",
            "\n",
            "installation finished.\n"
          ],
          "name": "stdout"
        }
      ]
    },
    {
      "metadata": {
        "id": "PUwlL9KX89Xc",
        "colab_type": "code",
        "colab": {}
      },
      "cell_type": "code",
      "source": [
        "!echo \"export PATH=$HOME/psi4conda/bin:\\$PATH\" >> ~/.bashrc"
      ],
      "execution_count": 0,
      "outputs": []
    },
    {
      "metadata": {
        "id": "wvD62oIt9dcr",
        "colab_type": "code",
        "colab": {
          "base_uri": "https://localhost:8080/",
          "height": 53
        },
        "outputId": "c46aef6f-ed20-4c9c-d1aa-0a60ee9b7d65"
      },
      "cell_type": "code",
      "source": [
        "!echo $PATH\n",
        "!echo $HOME"
      ],
      "execution_count": 13,
      "outputs": [
        {
          "output_type": "stream",
          "text": [
            "/usr/local/bin:/usr/local/nvidia/bin:/usr/local/cuda/bin:/usr/local/sbin:/usr/local/bin:/usr/sbin:/usr/bin:/sbin:/bin:/tools/node/bin:/tools/google-cloud-sdk/bin:/opt/bin\n",
            "/root\n"
          ],
          "name": "stdout"
        }
      ]
    },
    {
      "metadata": {
        "id": "6x0WBhna9iA1",
        "colab_type": "code",
        "colab": {
          "base_uri": "https://localhost:8080/",
          "height": 314
        },
        "outputId": "1e6c2d3a-2d8a-4495-f819-988f5976c7e1"
      },
      "cell_type": "code",
      "source": [
        "import psi4"
      ],
      "execution_count": 14,
      "outputs": [
        {
          "output_type": "error",
          "ename": "ModuleNotFoundError",
          "evalue": "ignored",
          "traceback": [
            "\u001b[0;31m---------------------------------------------------------------------------\u001b[0m",
            "\u001b[0;31mModuleNotFoundError\u001b[0m                       Traceback (most recent call last)",
            "\u001b[0;32m<ipython-input-14-ae2916a96900>\u001b[0m in \u001b[0;36m<module>\u001b[0;34m()\u001b[0m\n\u001b[0;32m----> 1\u001b[0;31m \u001b[0;32mimport\u001b[0m \u001b[0mpsi4\u001b[0m\u001b[0;34m\u001b[0m\u001b[0;34m\u001b[0m\u001b[0m\n\u001b[0m",
            "\u001b[0;31mModuleNotFoundError\u001b[0m: No module named 'psi4'",
            "",
            "\u001b[0;31m---------------------------------------------------------------------------\u001b[0;32m\nNOTE: If your import is failing due to a missing package, you can\nmanually install dependencies using either !pip or !apt.\n\nTo view examples of installing some common dependencies, click the\n\"Open Examples\" button below.\n\u001b[0;31m---------------------------------------------------------------------------\u001b[0m\n"
          ]
        }
      ]
    },
    {
      "metadata": {
        "id": "IaZcCLWT-Aiq",
        "colab_type": "code",
        "colab": {
          "resources": {
            "http://localhost:8080/nbextensions/google.colab/files.js": {
              "data": "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",
              "ok": true,
              "headers": [
                [
                  "content-type",
                  "application/javascript"
                ]
              ],
              "status": 200,
              "status_text": "OK"
            }
          },
          "base_uri": "https://localhost:8080/",
          "height": 539
        },
        "outputId": "5aaecb42-d559-40fc-eb4c-406194da3f22"
      },
      "cell_type": "code",
      "source": [
        "from google.colab import files\n",
        "\n",
        "uploaded = files.upload()"
      ],
      "execution_count": 15,
      "outputs": [
        {
          "output_type": "display_data",
          "data": {
            "text/html": [
              "\n",
              "     <input type=\"file\" id=\"files-9621ff32-dc4b-4a0c-9394-29b09273dc34\" name=\"files[]\" multiple disabled />\n",
              "     <output id=\"result-9621ff32-dc4b-4a0c-9394-29b09273dc34\">\n",
              "      Upload widget is only available when the cell has been executed in the\n",
              "      current browser session. Please rerun this cell to enable.\n",
              "      </output>\n",
              "      <script src=\"/nbextensions/google.colab/files.js\"></script> "
            ],
            "text/plain": [
              "<IPython.core.display.HTML object>"
            ]
          },
          "metadata": {
            "tags": []
          }
        },
        {
          "output_type": "stream",
          "text": [
            "Saving m20181212_009.JDX to m20181212_009.JDX\n",
            "Saving m20181212_009.SPA to m20181212_009.SPA\n",
            "Saving m20181212_008.SPA to m20181212_008.SPA\n",
            "Saving m20181212_008.JDX to m20181212_008.JDX\n",
            "Saving m20181212_007.JDX to m20181212_007.JDX\n",
            "Saving m20181212_007.SPA to m20181212_007.SPA\n",
            "Saving m20181212_006.SPA to m20181212_006.SPA\n",
            "Saving m20181212_006.JDX to m20181212_006.JDX\n",
            "Saving m20181212_005.JDX to m20181212_005.JDX\n",
            "Saving m20181212_005.SPA to m20181212_005.SPA\n",
            "Saving m20181212_004.SPA to m20181212_004.SPA\n",
            "Saving m20181212_004.JDX to m20181212_004.JDX\n",
            "Saving m20181212_003.JDX to m20181212_003.JDX\n",
            "Saving m20181212_003.SPA to m20181212_003.SPA\n"
          ],
          "name": "stdout"
        }
      ]
    },
    {
      "metadata": {
        "id": "tYB_z09t-gp0",
        "colab_type": "code",
        "colab": {
          "base_uri": "https://localhost:8080/",
          "height": 124
        },
        "outputId": "62c7dedc-c246-43ce-bba4-d63d27095a54"
      },
      "cell_type": "code",
      "source": [
        "!ls"
      ],
      "execution_count": 16,
      "outputs": [
        {
          "output_type": "stream",
          "text": [
            "m20181212_003.JDX  m20181212_006.JDX  m20181212_009.JDX\n",
            "m20181212_003.SPA  m20181212_006.SPA  m20181212_009.SPA\n",
            "m20181212_004.JDX  m20181212_007.JDX  Psi4conda-latest-py35-Linux-x86_64.sh\n",
            "m20181212_004.SPA  m20181212_007.SPA  sample_data\n",
            "m20181212_005.JDX  m20181212_008.JDX\n",
            "m20181212_005.SPA  m20181212_008.SPA\n"
          ],
          "name": "stdout"
        }
      ]
    },
    {
      "metadata": {
        "id": "les3alFx-yHR",
        "colab_type": "code",
        "colab": {
          "base_uri": "https://localhost:8080/",
          "height": 35
        },
        "outputId": "0a4f363f-75cb-43d6-ccdc-97f92b03dcd5"
      },
      "cell_type": "code",
      "source": [
        "cd sample_data/"
      ],
      "execution_count": 17,
      "outputs": [
        {
          "output_type": "stream",
          "text": [
            "/content/sample_data\n"
          ],
          "name": "stdout"
        }
      ]
    },
    {
      "metadata": {
        "id": "IWzFTE2J-05-",
        "colab_type": "code",
        "colab": {}
      },
      "cell_type": "code",
      "source": [
        "!cp ../*.JDX ./"
      ],
      "execution_count": 0,
      "outputs": []
    },
    {
      "metadata": {
        "id": "LKqA9fpW-17e",
        "colab_type": "code",
        "colab": {
          "base_uri": "https://localhost:8080/",
          "height": 106
        },
        "outputId": "4f6a3ddf-e745-46f5-b3d5-0d22e0ab6668"
      },
      "cell_type": "code",
      "source": [
        "!ls"
      ],
      "execution_count": 20,
      "outputs": [
        {
          "output_type": "stream",
          "text": [
            "anscombe.json\t\t      m20181212_005.JDX  mnist_test.csv\n",
            "california_housing_test.csv   m20181212_006.JDX  mnist_train_small.csv\n",
            "california_housing_train.csv  m20181212_007.JDX  README.md\n",
            "m20181212_003.JDX\t      m20181212_008.JDX\n",
            "m20181212_004.JDX\t      m20181212_009.JDX\n"
          ],
          "name": "stdout"
        }
      ]
    },
    {
      "metadata": {
        "id": "5Zw9A3PW-99N",
        "colab_type": "code",
        "colab": {}
      },
      "cell_type": "code",
      "source": [
        ""
      ],
      "execution_count": 0,
      "outputs": []
    }
  ]
}